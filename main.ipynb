{
 "cells": [
  {
   "cell_type": "code",
   "execution_count": 1,
   "metadata": {},
   "outputs": [],
   "source": [
    "import pandas as pd\n",
    "from sklearn.preprocessing import LabelEncoder\n",
    "from sklearn.linear_model import LogisticRegression\n",
    "from sklearn.model_selection import train_test_split\n",
    "from sklearn.svm import SVC\n",
    "from sklearn.pipeline import make_pipeline\n",
    "from sklearn.preprocessing import StandardScaler\n",
    "from sklearn.metrics import accuracy_score\n",
    "import pickle\n",
    "import random"
   ]
  },
  {
   "cell_type": "code",
   "execution_count": 2,
   "metadata": {},
   "outputs": [],
   "source": [
    "data = pd.read_csv(\"heart.csv\")\n"
   ]
  },
  {
   "cell_type": "code",
   "execution_count": 3,
   "metadata": {},
   "outputs": [],
   "source": [
    "global mean_val\n",
    "mean_val = data[\"Cholesterol\"].mean()"
   ]
  },
  {
   "cell_type": "code",
   "execution_count": 4,
   "metadata": {},
   "outputs": [
    {
     "name": "stdout",
     "output_type": "stream",
     "text": [
      "   Age Sex ChestPainType  RestingBP Cholesterol  FastingBS RestingECG  MaxHR  \\\n",
      "0   40   M           ATA        140        High          0     Normal    172   \n",
      "1   49   F           NAP        160         Low          0     Normal    156   \n",
      "2   37   M           ATA        130        High          0         ST     98   \n",
      "3   48   F           ASY        138        High          0     Normal    108   \n",
      "4   54   M           NAP        150         Low          0     Normal    122   \n",
      "\n",
      "  ExerciseAngina  Oldpeak ST_Slope  HeartDisease  \n",
      "0              N      0.0       Up             0  \n",
      "1              N      1.0     Flat             1  \n",
      "2              N      0.0       Up             0  \n",
      "3              Y      1.5     Flat             1  \n",
      "4              N      0.0       Up             0  \n"
     ]
    }
   ],
   "source": [
    "df = pd.DataFrame(data)\n",
    "df.dropna(inplace=True)\n",
    "\n",
    "def convert_vals(val):\n",
    "    global mean_val\n",
    "    if val < mean_val:\n",
    "        return \"Low\"\n",
    "    elif val == mean_val:\n",
    "        return \"moderate\"\n",
    "    else:\n",
    "        return \"High\"\n",
    "\n",
    "\n",
    "df['Cholesterol'] = df['Cholesterol'].apply(convert_vals)\n",
    "print(df.head())"
   ]
  },
  {
   "cell_type": "code",
   "execution_count": 5,
   "metadata": {},
   "outputs": [],
   "source": [
    "# 'ASY' - 0, 'ATA' - 1, 'NAP' - 2, 'TA' - 3\n",
    "# 'F' - 0, 'M' - 1\n",
    "# 'High' - 0, 'Low' - 1 (for cholesterol)\n",
    "# 'LVH' - 0, 'Normal' - 1, 'ST' - 2\n",
    "cols = [\"Sex\",\"ChestPainType\", \"Cholesterol\", \"RestingECG\",\"ExerciseAngina\"] \n",
    "df[cols] = df[cols].apply(LabelEncoder().fit_transform)\n"
   ]
  },
  {
   "cell_type": "code",
   "execution_count": 6,
   "metadata": {},
   "outputs": [],
   "source": [
    "df = df[[\"Sex\",\"ChestPainType\", \"Cholesterol\", \"RestingECG\",\"ExerciseAngina\",\"RestingBP\",\"FastingBS\",\"MaxHR\", \"HeartDisease\"]]"
   ]
  },
  {
   "cell_type": "code",
   "execution_count": 7,
   "metadata": {},
   "outputs": [
    {
     "data": {
      "text/html": [
       "<div>\n",
       "<style scoped>\n",
       "    .dataframe tbody tr th:only-of-type {\n",
       "        vertical-align: middle;\n",
       "    }\n",
       "\n",
       "    .dataframe tbody tr th {\n",
       "        vertical-align: top;\n",
       "    }\n",
       "\n",
       "    .dataframe thead th {\n",
       "        text-align: right;\n",
       "    }\n",
       "</style>\n",
       "<table border=\"1\" class=\"dataframe\">\n",
       "  <thead>\n",
       "    <tr style=\"text-align: right;\">\n",
       "      <th></th>\n",
       "      <th>Sex</th>\n",
       "      <th>ChestPainType</th>\n",
       "      <th>Cholesterol</th>\n",
       "      <th>RestingECG</th>\n",
       "      <th>ExerciseAngina</th>\n",
       "      <th>RestingBP</th>\n",
       "      <th>FastingBS</th>\n",
       "      <th>MaxHR</th>\n",
       "      <th>HeartDisease</th>\n",
       "    </tr>\n",
       "  </thead>\n",
       "  <tbody>\n",
       "    <tr>\n",
       "      <th>0</th>\n",
       "      <td>1</td>\n",
       "      <td>1</td>\n",
       "      <td>0</td>\n",
       "      <td>1</td>\n",
       "      <td>0</td>\n",
       "      <td>140</td>\n",
       "      <td>0</td>\n",
       "      <td>172</td>\n",
       "      <td>0</td>\n",
       "    </tr>\n",
       "    <tr>\n",
       "      <th>1</th>\n",
       "      <td>0</td>\n",
       "      <td>2</td>\n",
       "      <td>1</td>\n",
       "      <td>1</td>\n",
       "      <td>0</td>\n",
       "      <td>160</td>\n",
       "      <td>0</td>\n",
       "      <td>156</td>\n",
       "      <td>1</td>\n",
       "    </tr>\n",
       "    <tr>\n",
       "      <th>2</th>\n",
       "      <td>1</td>\n",
       "      <td>1</td>\n",
       "      <td>0</td>\n",
       "      <td>2</td>\n",
       "      <td>0</td>\n",
       "      <td>130</td>\n",
       "      <td>0</td>\n",
       "      <td>98</td>\n",
       "      <td>0</td>\n",
       "    </tr>\n",
       "    <tr>\n",
       "      <th>3</th>\n",
       "      <td>0</td>\n",
       "      <td>0</td>\n",
       "      <td>0</td>\n",
       "      <td>1</td>\n",
       "      <td>1</td>\n",
       "      <td>138</td>\n",
       "      <td>0</td>\n",
       "      <td>108</td>\n",
       "      <td>1</td>\n",
       "    </tr>\n",
       "    <tr>\n",
       "      <th>4</th>\n",
       "      <td>1</td>\n",
       "      <td>2</td>\n",
       "      <td>1</td>\n",
       "      <td>1</td>\n",
       "      <td>0</td>\n",
       "      <td>150</td>\n",
       "      <td>0</td>\n",
       "      <td>122</td>\n",
       "      <td>0</td>\n",
       "    </tr>\n",
       "  </tbody>\n",
       "</table>\n",
       "</div>"
      ],
      "text/plain": [
       "   Sex  ChestPainType  Cholesterol  RestingECG  ExerciseAngina  RestingBP  \\\n",
       "0    1              1            0           1               0        140   \n",
       "1    0              2            1           1               0        160   \n",
       "2    1              1            0           2               0        130   \n",
       "3    0              0            0           1               1        138   \n",
       "4    1              2            1           1               0        150   \n",
       "\n",
       "   FastingBS  MaxHR  HeartDisease  \n",
       "0          0    172             0  \n",
       "1          0    156             1  \n",
       "2          0     98             0  \n",
       "3          0    108             1  \n",
       "4          0    122             0  "
      ]
     },
     "execution_count": 7,
     "metadata": {},
     "output_type": "execute_result"
    }
   ],
   "source": [
    "df.head()"
   ]
  },
  {
   "cell_type": "code",
   "execution_count": 8,
   "metadata": {},
   "outputs": [
    {
     "name": "stdout",
     "output_type": "stream",
     "text": [
      "{'Sex': {0: 1, 1: 0, 2: 1, 3: 0, 4: 1, 5: 1, 6: 0, 7: 1, 8: 1, 9: 0, 10: 0, 11: 1, 12: 1, 13: 1, 14: 0, 15: 0, 16: 1, 17: 0, 18: 1, 19: 1, 20: 0, 21: 1, 22: 0, 23: 1, 24: 1, 25: 1, 26: 1, 27: 1, 28: 0, 29: 1, 30: 1, 31: 1, 32: 1, 33: 1, 34: 0, 35: 1, 36: 1, 37: 0, 38: 0, 39: 0, 40: 0, 41: 0, 42: 1, 43: 1, 44: 1, 45: 1, 46: 1, 47: 1, 48: 1, 49: 1, 50: 1, 51: 0, 52: 1, 53: 0, 54: 0, 55: 0, 56: 1, 57: 1, 58: 1, 59: 1, 60: 1, 61: 0, 62: 1, 63: 1, 64: 0, 65: 0, 66: 0, 67: 1, 68: 1, 69: 1, 70: 1, 71: 1, 72: 1, 73: 0, 74: 1, 75: 1, 76: 1, 77: 0, 78: 1, 79: 1, 80: 1, 81: 1, 82: 1, 83: 1, 84: 1, 85: 1, 86: 1, 87: 0, 88: 1, 89: 1, 90: 0, 91: 1, 92: 0, 93: 1, 94: 0, 95: 1, 96: 1, 97: 1, 98: 1, 99: 1, 100: 1, 101: 1, 102: 0, 103: 1, 104: 1, 105: 1, 106: 0, 107: 1, 108: 1, 109: 1, 110: 0, 111: 1, 112: 1, 113: 1, 114: 0, 115: 0, 116: 1, 117: 0, 118: 0, 119: 1, 120: 0, 121: 0, 122: 1, 123: 0, 124: 1, 125: 1, 126: 0, 127: 0, 128: 0, 129: 1, 130: 1, 131: 1, 132: 1, 133: 1, 134: 0, 135: 1, 136: 0, 137: 1, 138: 1, 139: 1, 140: 1, 141: 1, 142: 1, 143: 1, 144: 0, 145: 1, 146: 1, 147: 0, 148: 1, 149: 1, 150: 1, 151: 1, 152: 1, 153: 1, 154: 1, 155: 1, 156: 1, 157: 1, 158: 1, 159: 1, 160: 1, 161: 1, 162: 1, 163: 1, 164: 0, 165: 1, 166: 1, 167: 1, 168: 1, 169: 1, 170: 1, 171: 1, 172: 1, 173: 1, 174: 1, 175: 1}, 'ChestPainType': {0: 1, 1: 2, 2: 1, 3: 0, 4: 2, 5: 2, 6: 1, 7: 1, 8: 0, 9: 1, 10: 2, 11: 1, 12: 1, 13: 0, 14: 2, 15: 1, 16: 0, 17: 1, 18: 0, 19: 1, 20: 3, 21: 1, 22: 1, 23: 1, 24: 2, 25: 2, 26: 0, 27: 1, 28: 1, 29: 1, 30: 2, 31: 2, 32: 0, 33: 0, 34: 1, 35: 1, 36: 0, 37: 1, 38: 1, 39: 0, 40: 1, 41: 2, 42: 1, 43: 2, 44: 0, 45: 2, 46: 0, 47: 1, 48: 2, 49: 0, 50: 0, 51: 0, 52: 1, 53: 1, 54: 0, 55: 1, 56: 0, 57: 2, 58: 0, 59: 0, 60: 1, 61: 2, 62: 0, 63: 0, 64: 1, 65: 1, 66: 0, 67: 1, 68: 0, 69: 0, 70: 1, 71: 1, 72: 0, 73: 0, 74: 0, 75: 2, 76: 0, 77: 0, 78: 1, 79: 0, 80: 2, 81: 1, 82: 0, 83: 1, 84: 0, 85: 0, 86: 0, 87: 1, 88: 3, 89: 0, 90: 1, 91: 0, 92: 1, 93: 0, 94: 2, 95: 0, 96: 1, 97: 2, 98: 0, 99: 1, 100: 0, 101: 0, 102: 0, 103: 0, 104: 0, 105: 1, 106: 0, 107: 1, 108: 0, 109: 1, 110: 1, 111: 0, 112: 0, 113: 1, 114: 2, 115: 0, 116: 0, 117: 0, 118: 3, 119: 3, 120: 2, 121: 2, 122: 0, 123: 1, 124: 1, 125: 1, 126: 1, 127: 0, 128: 1, 129: 2, 130: 2, 131: 0, 132: 0, 133: 0, 134: 0, 135: 2, 136: 1, 137: 1, 138: 0, 139: 0, 140: 0, 141: 0, 142: 0, 143: 0, 144: 1, 145: 0, 146: 1, 147: 1, 148: 1, 149: 0, 150: 1, 151: 1, 152: 1, 153: 0, 154: 1, 155: 0, 156: 0, 157: 0, 158: 0, 159: 1, 160: 0, 161: 0, 162: 1, 163: 1, 164: 1, 165: 3, 166: 0, 167: 1, 168: 0, 169: 2, 170: 1, 171: 2, 172: 1, 173: 2, 174: 0, 175: 0}, 'Cholesterol': {0: 0, 1: 1, 2: 0, 3: 0, 4: 1, 5: 0, 6: 0, 7: 0, 8: 0, 9: 0, 10: 0, 11: 1, 12: 0, 13: 0, 14: 0, 15: 0, 16: 1, 17: 0, 18: 0, 19: 0, 20: 0, 21: 1, 22: 0, 23: 0, 24: 0, 25: 0, 26: 0, 27: 0, 28: 0, 29: 1, 30: 0, 31: 1, 32: 0, 33: 1, 34: 1, 35: 0, 36: 0, 37: 0, 38: 1, 39: 0, 40: 0, 41: 0, 42: 0, 43: 0, 44: 1, 45: 0, 46: 0, 47: 0, 48: 0, 49: 0, 50: 0, 51: 0, 52: 0, 53: 0, 54: 1, 55: 1, 56: 0, 57: 0, 58: 0, 59: 0, 60: 0, 61: 0, 62: 0, 63: 0, 64: 0, 65: 0, 66: 0, 67: 0, 68: 0, 69: 0, 70: 0, 71: 0, 72: 1, 73: 0, 74: 0, 75: 1, 76: 0, 77: 1, 78: 1, 79: 0, 80: 0, 81: 0, 82: 0, 83: 1, 84: 0, 85: 1, 86: 0, 87: 0, 88: 0, 89: 0, 90: 0, 91: 0, 92: 0, 93: 0, 94: 1, 95: 0, 96: 0, 97: 1, 98: 1, 99: 0, 100: 0, 101: 1, 102: 0, 103: 0, 104: 1, 105: 0, 106: 0, 107: 0, 108: 1, 109: 0, 110: 1, 111: 0, 112: 0, 113: 0, 114: 0, 115: 0, 116: 0, 117: 0, 118: 1, 119: 1, 120: 0, 121: 0, 122: 0, 123: 0, 124: 0, 125: 0, 126: 1, 127: 1, 128: 0, 129: 0, 130: 0, 131: 0, 132: 0, 133: 0, 134: 0, 135: 0, 136: 0, 137: 0, 138: 1, 139: 0, 140: 0, 141: 0, 142: 0, 143: 0, 144: 0, 145: 0, 146: 1, 147: 0, 148: 1, 149: 0, 150: 0, 151: 1, 152: 0, 153: 0, 154: 0, 155: 0, 156: 1, 157: 1, 158: 0, 159: 1, 160: 0, 161: 0, 162: 0, 163: 1, 164: 0, 165: 0, 166: 0, 167: 0, 168: 0, 169: 1, 170: 0, 171: 0, 172: 0, 173: 1, 174: 0, 175: 0}, 'RestingECG': {0: 1, 1: 1, 2: 2, 3: 1, 4: 1, 5: 1, 6: 1, 7: 1, 8: 1, 9: 1, 10: 1, 11: 2, 12: 1, 13: 1, 14: 2, 15: 1, 16: 1, 17: 1, 18: 1, 19: 1, 20: 1, 21: 1, 22: 1, 23: 1, 24: 1, 25: 1, 26: 2, 27: 1, 28: 1, 29: 1, 30: 1, 31: 1, 32: 1, 33: 2, 34: 1, 35: 1, 36: 1, 37: 2, 38: 2, 39: 1, 40: 1, 41: 2, 42: 1, 43: 2, 44: 1, 45: 1, 46: 1, 47: 1, 48: 1, 49: 1, 50: 1, 51: 1, 52: 1, 53: 1, 54: 1, 55: 1, 56: 1, 57: 2, 58: 2, 59: 2, 60: 1, 61: 1, 62: 1, 63: 1, 64: 1, 65: 1, 66: 1, 67: 1, 68: 2, 69: 1, 70: 2, 71: 1, 72: 1, 73: 2, 74: 1, 75: 1, 76: 1, 77: 1, 78: 1, 79: 1, 80: 1, 81: 1, 82: 1, 83: 1, 84: 1, 85: 1, 86: 1, 87: 1, 88: 2, 89: 1, 90: 1, 91: 1, 92: 1, 93: 1, 94: 2, 95: 1, 96: 1, 97: 1, 98: 1, 99: 1, 100: 2, 101: 1, 102: 1, 103: 1, 104: 1, 105: 1, 106: 2, 107: 2, 108: 1, 109: 1, 110: 1, 111: 1, 112: 1, 113: 1, 114: 2, 115: 1, 116: 1, 117: 2, 118: 2, 119: 1, 120: 1, 121: 1, 122: 2, 123: 1, 124: 1, 125: 1, 126: 1, 127: 1, 128: 1, 129: 1, 130: 1, 131: 1, 132: 2, 133: 2, 134: 2, 135: 1, 136: 2, 137: 2, 138: 1, 139: 1, 140: 1, 141: 2, 142: 2, 143: 1, 144: 1, 145: 1, 146: 1, 147: 2, 148: 1, 149: 1, 150: 1, 151: 1, 152: 1, 153: 1, 154: 2, 155: 1, 156: 1, 157: 1, 158: 1, 159: 2, 160: 0, 161: 1, 162: 1, 163: 1, 164: 1, 165: 1, 166: 2, 167: 1, 168: 1, 169: 1, 170: 1, 171: 1, 172: 1, 173: 1, 174: 1, 175: 1}, 'ExerciseAngina': {0: 0, 1: 0, 2: 0, 3: 1, 4: 0, 5: 0, 6: 0, 7: 0, 8: 1, 9: 0, 10: 0, 11: 1, 12: 0, 13: 1, 14: 0, 15: 0, 16: 0, 17: 0, 18: 0, 19: 0, 20: 0, 21: 0, 22: 0, 23: 1, 24: 0, 25: 0, 26: 1, 27: 0, 28: 0, 29: 0, 30: 0, 31: 0, 32: 0, 33: 0, 34: 0, 35: 0, 36: 1, 37: 0, 38: 0, 39: 1, 40: 0, 41: 1, 42: 0, 43: 0, 44: 1, 45: 1, 46: 0, 47: 0, 48: 0, 49: 0, 50: 1, 51: 1, 52: 0, 53: 0, 54: 1, 55: 0, 56: 1, 57: 0, 58: 0, 59: 1, 60: 0, 61: 0, 62: 0, 63: 1, 64: 0, 65: 0, 66: 0, 67: 0, 68: 1, 69: 0, 70: 1, 71: 0, 72: 0, 73: 0, 74: 1, 75: 0, 76: 0, 77: 0, 78: 1, 79: 0, 80: 0, 81: 0, 82: 0, 83: 0, 84: 1, 85: 1, 86: 1, 87: 1, 88: 0, 89: 1, 90: 0, 91: 0, 92: 0, 93: 1, 94: 0, 95: 1, 96: 0, 97: 0, 98: 0, 99: 0, 100: 1, 101: 0, 102: 0, 103: 1, 104: 0, 105: 0, 106: 0, 107: 0, 108: 0, 109: 0, 110: 0, 111: 1, 112: 1, 113: 0, 114: 0, 115: 1, 116: 0, 117: 1, 118: 0, 119: 0, 120: 0, 121: 0, 122: 0, 123: 1, 124: 0, 125: 0, 126: 0, 127: 0, 128: 0, 129: 1, 130: 0, 131: 1, 132: 1, 133: 1, 134: 1, 135: 0, 136: 0, 137: 0, 138: 1, 139: 1, 140: 1, 141: 1, 142: 1, 143: 0, 144: 0, 145: 0, 146: 0, 147: 0, 148: 0, 149: 1, 150: 0, 151: 0, 152: 0, 153: 0, 154: 0, 155: 1, 156: 1, 157: 0, 158: 1, 159: 0, 160: 1, 161: 1, 162: 0, 163: 0, 164: 0, 165: 0, 166: 1, 167: 0, 168: 0, 169: 0, 170: 0, 171: 0, 172: 0, 173: 0, 174: 1, 175: 1}, 'RestingBP': {0: 140, 1: 160, 2: 130, 3: 138, 4: 150, 5: 120, 6: 130, 7: 110, 8: 140, 9: 120, 10: 130, 11: 136, 12: 120, 13: 140, 14: 115, 15: 120, 16: 110, 17: 120, 18: 100, 19: 120, 20: 100, 21: 120, 22: 124, 23: 150, 24: 130, 25: 130, 26: 124, 27: 120, 28: 113, 29: 125, 30: 145, 31: 130, 32: 125, 33: 130, 34: 150, 35: 125, 36: 140, 37: 110, 38: 120, 39: 150, 40: 150, 41: 130, 42: 150, 43: 140, 44: 120, 45: 130, 46: 120, 47: 140, 48: 112, 49: 110, 50: 130, 51: 120, 52: 140, 53: 130, 54: 130, 55: 160, 56: 120, 57: 130, 58: 150, 59: 112, 60: 100, 61: 150, 62: 140, 63: 120, 64: 110, 65: 120, 66: 132, 67: 110, 68: 160, 69: 150, 70: 140, 71: 130, 72: 120, 73: 120, 74: 140, 75: 150, 76: 118, 77: 140, 78: 140, 79: 130, 80: 110, 81: 120, 82: 150, 83: 160, 84: 150, 85: 140, 86: 170, 87: 140, 88: 120, 89: 140, 90: 110, 91: 130, 92: 120, 93: 160, 94: 110, 95: 130, 96: 142, 97: 160, 98: 120, 99: 125, 100: 130, 101: 130, 102: 150, 103: 120, 104: 118, 105: 140, 106: 120, 107: 150, 108: 140, 109: 190, 110: 130, 111: 150, 112: 140, 113: 140, 114: 130, 115: 100, 116: 120, 117: 130, 118: 120, 119: 140, 120: 135, 121: 125, 122: 110, 123: 180, 124: 130, 125: 120, 126: 130, 127: 108, 128: 120, 129: 120, 130: 145, 131: 110, 132: 170, 133: 150, 134: 130, 135: 115, 136: 120, 137: 120, 138: 140, 139: 150, 140: 160, 141: 140, 142: 160, 143: 140, 144: 120, 145: 110, 146: 120, 147: 120, 148: 120, 149: 130, 150: 130, 151: 100, 152: 130, 153: 120, 154: 120, 155: 155, 156: 110, 157: 140, 158: 130, 159: 160, 160: 140, 161: 128, 162: 160, 163: 120, 164: 140, 165: 140, 166: 140, 167: 140, 168: 135, 169: 140, 170: 120, 171: 140, 172: 140, 173: 140, 174: 140, 175: 140}, 'FastingBS': {0: 0, 1: 0, 2: 0, 3: 0, 4: 0, 5: 0, 6: 0, 7: 0, 8: 0, 9: 0, 10: 0, 11: 0, 12: 0, 13: 0, 14: 0, 15: 0, 16: 0, 17: 0, 18: 0, 19: 0, 20: 0, 21: 0, 22: 0, 23: 0, 24: 0, 25: 0, 26: 0, 27: 0, 28: 0, 29: 0, 30: 0, 31: 0, 32: 0, 33: 0, 34: 0, 35: 0, 36: 1, 37: 0, 38: 1, 39: 0, 40: 0, 41: 0, 42: 0, 43: 0, 44: 0, 45: 0, 46: 0, 47: 0, 48: 0, 49: 0, 50: 0, 51: 0, 52: 1, 53: 0, 54: 0, 55: 0, 56: 0, 57: 0, 58: 0, 59: 0, 60: 0, 61: 0, 62: 0, 63: 0, 64: 0, 65: 0, 66: 0, 67: 0, 68: 0, 69: 0, 70: 0, 71: 0, 72: 0, 73: 0, 74: 0, 75: 0, 76: 0, 77: 0, 78: 0, 79: 0, 80: 0, 81: 0, 82: 0, 83: 0, 84: 1, 85: 0, 86: 1, 87: 0, 88: 0, 89: 0, 90: 0, 91: 0, 92: 0, 93: 0, 94: 0, 95: 0, 96: 0, 97: 1, 98: 0, 99: 0, 100: 0, 101: 0, 102: 0, 103: 1, 104: 0, 105: 1, 106: 0, 107: 0, 108: 0, 109: 0, 110: 0, 111: 0, 112: 1, 113: 0, 114: 0, 115: 0, 116: 0, 117: 1, 118: 0, 119: 0, 120: 1, 121: 0, 122: 0, 123: 0, 124: 0, 125: 0, 126: 0, 127: 0, 128: 1, 129: 0, 130: 0, 131: 0, 132: 0, 133: 0, 134: 0, 135: 0, 136: 0, 137: 0, 138: 0, 139: 0, 140: 0, 141: 0, 142: 0, 143: 0, 144: 0, 145: 0, 146: 0, 147: 0, 148: 0, 149: 1, 150: 0, 151: 0, 152: 0, 153: 0, 154: 0, 155: 1, 156: 0, 157: 0, 158: 0, 159: 0, 160: 1, 161: 0, 162: 0, 163: 0, 164: 0, 165: 1, 166: 0, 167: 0, 168: 0, 169: 0, 170: 0, 171: 0, 172: 0, 173: 0, 174: 0, 175: 0}, 'MaxHR': {0: 172, 1: 156, 2: 98, 3: 108, 4: 122, 5: 170, 6: 170, 7: 142, 8: 130, 9: 120, 10: 142, 11: 99, 12: 145, 13: 140, 14: 137, 15: 150, 16: 166, 17: 165, 18: 125, 19: 160, 20: 142, 21: 142, 22: 164, 23: 150, 24: 138, 25: 178, 26: 112, 27: 118, 28: 127, 29: 145, 30: 130, 31: 114, 32: 122, 33: 130, 34: 154, 35: 155, 36: 87, 37: 142, 38: 148, 39: 130, 40: 130, 41: 100, 42: 168, 43: 170, 44: 120, 45: 120, 46: 168, 47: 170, 48: 184, 49: 170, 50: 121, 51: 98, 52: 122, 53: 150, 54: 140, 55: 170, 56: 153, 57: 140, 58: 134, 59: 96, 60: 174, 61: 175, 62: 144, 63: 125, 64: 145, 65: 130, 66: 144, 67: 184, 68: 82, 69: 170, 70: 145, 71: 135, 72: 150, 73: 115, 74: 128, 75: 116, 76: 130, 77: 150, 78: 138, 79: 170, 80: 160, 81: 154, 82: 115, 83: 165, 84: 125, 85: 94, 86: 112, 87: 142, 88: 155, 89: 110, 90: 160, 91: 140, 92: 148, 93: 92, 94: 180, 95: 140, 96: 138, 97: 160, 98: 140, 99: 144, 100: 115, 101: 100, 102: 130, 103: 152, 104: 124, 105: 140, 106: 110, 107: 168, 108: 135, 109: 106, 110: 124, 111: 92, 112: 125, 113: 150, 114: 135, 115: 150, 116: 170, 117: 130, 118: 185, 119: 180, 120: 170, 121: 139, 122: 140, 123: 110, 124: 150, 125: 110, 126: 190, 127: 175, 128: 140, 129: 152, 130: 130, 131: 150, 132: 122, 133: 124, 134: 120, 135: 175, 136: 175, 137: 146, 138: 118, 139: 130, 140: 94, 141: 125, 142: 158, 143: 155, 144: 150, 145: 132, 146: 155, 147: 176, 148: 160, 149: 125, 150: 120, 151: 100, 152: 150, 153: 140, 154: 160, 155: 150, 156: 150, 157: 130, 158: 100, 159: 130, 160: 119, 161: 96, 162: 174, 163: 150, 164: 140, 165: 175, 166: 140, 167: 118, 168: 100, 169: 160, 170: 160, 171: 188, 172: 162, 173: 172, 174: 134, 175: 135}, 'HeartDisease': {0: 0, 1: 1, 2: 0, 3: 1, 4: 0, 5: 0, 6: 0, 7: 0, 8: 1, 9: 0, 10: 0, 11: 1, 12: 0, 13: 1, 14: 0, 15: 0, 16: 1, 17: 0, 18: 1, 19: 1, 20: 0, 21: 0, 22: 0, 23: 1, 24: 0, 25: 0, 26: 0, 27: 0, 28: 0, 29: 0, 30: 1, 31: 0, 32: 1, 33: 1, 34: 0, 35: 0, 36: 1, 37: 0, 38: 0, 39: 0, 40: 0, 41: 1, 42: 0, 43: 0, 44: 1, 45: 0, 46: 0, 47: 0, 48: 0, 49: 1, 50: 1, 51: 1, 52: 0, 53: 0, 54: 0, 55: 0, 56: 1, 57: 1, 58: 0, 59: 1, 60: 0, 61: 0, 62: 0, 63: 1, 64: 0, 65: 0, 66: 0, 67: 0, 68: 1, 69: 0, 70: 1, 71: 0, 72: 1, 73: 0, 74: 1, 75: 0, 76: 1, 77: 0, 78: 0, 79: 1, 80: 0, 81: 0, 82: 1, 83: 0, 84: 1, 85: 1, 86: 1, 87: 0, 88: 1, 89: 0, 90: 0, 91: 0, 92: 0, 93: 1, 94: 0, 95: 1, 96: 0, 97: 0, 98: 0, 99: 0, 100: 1, 101: 0, 102: 1, 103: 1, 104: 1, 105: 0, 106: 0, 107: 0, 108: 0, 109: 0, 110: 0, 111: 1, 112: 0, 113: 0, 114: 0, 115: 1, 116: 1, 117: 1, 118: 0, 119: 1, 120: 1, 121: 0, 122: 0, 123: 1, 124: 0, 125: 0, 126: 0, 127: 0, 128: 0, 129: 0, 130: 0, 131: 1, 132: 1, 133: 1, 134: 0, 135: 1, 136: 0, 137: 0, 138: 1, 139: 1, 140: 1, 141: 1, 142: 1, 143: 0, 144: 1, 145: 0, 146: 0, 147: 0, 148: 0, 149: 1, 150: 0, 151: 0, 152: 0, 153: 0, 154: 0, 155: 1, 156: 1, 157: 0, 158: 1, 159: 0, 160: 1, 161: 1, 162: 0, 163: 0, 164: 0, 165: 1, 166: 1, 167: 0, 168: 0, 169: 0, 170: 0, 171: 0, 172: 0, 173: 0, 174: 1, 175: 1}}\n"
     ]
    }
   ],
   "source": [
    "test = df[[\"Sex\",\"ChestPainType\", \"Cholesterol\", \"RestingECG\",\"ExerciseAngina\",\"RestingBP\",\"FastingBS\",\"MaxHR\", \"HeartDisease\"]].head(176).to_dict()\n",
    "print(test)"
   ]
  },
  {
   "cell_type": "code",
   "execution_count": 9,
   "metadata": {},
   "outputs": [],
   "source": [
    "x_train, x_test, y_train,y_test = train_test_split(df[[\"Sex\",\"ChestPainType\", \"Cholesterol\", \"RestingECG\",\"ExerciseAngina\",\"RestingBP\",\"FastingBS\",\"MaxHR\"]], df[\"HeartDisease\"], test_size=.2)"
   ]
  },
  {
   "cell_type": "code",
   "execution_count": 10,
   "metadata": {},
   "outputs": [],
   "source": [
    "lr = LogisticRegression()"
   ]
  },
  {
   "cell_type": "code",
   "execution_count": 11,
   "metadata": {},
   "outputs": [
    {
     "data": {
      "text/html": [
       "<style>#sk-container-id-1 {color: black;}#sk-container-id-1 pre{padding: 0;}#sk-container-id-1 div.sk-toggleable {background-color: white;}#sk-container-id-1 label.sk-toggleable__label {cursor: pointer;display: block;width: 100%;margin-bottom: 0;padding: 0.3em;box-sizing: border-box;text-align: center;}#sk-container-id-1 label.sk-toggleable__label-arrow:before {content: \"▸\";float: left;margin-right: 0.25em;color: #696969;}#sk-container-id-1 label.sk-toggleable__label-arrow:hover:before {color: black;}#sk-container-id-1 div.sk-estimator:hover label.sk-toggleable__label-arrow:before {color: black;}#sk-container-id-1 div.sk-toggleable__content {max-height: 0;max-width: 0;overflow: hidden;text-align: left;background-color: #f0f8ff;}#sk-container-id-1 div.sk-toggleable__content pre {margin: 0.2em;color: black;border-radius: 0.25em;background-color: #f0f8ff;}#sk-container-id-1 input.sk-toggleable__control:checked~div.sk-toggleable__content {max-height: 200px;max-width: 100%;overflow: auto;}#sk-container-id-1 input.sk-toggleable__control:checked~label.sk-toggleable__label-arrow:before {content: \"▾\";}#sk-container-id-1 div.sk-estimator input.sk-toggleable__control:checked~label.sk-toggleable__label {background-color: #d4ebff;}#sk-container-id-1 div.sk-label input.sk-toggleable__control:checked~label.sk-toggleable__label {background-color: #d4ebff;}#sk-container-id-1 input.sk-hidden--visually {border: 0;clip: rect(1px 1px 1px 1px);clip: rect(1px, 1px, 1px, 1px);height: 1px;margin: -1px;overflow: hidden;padding: 0;position: absolute;width: 1px;}#sk-container-id-1 div.sk-estimator {font-family: monospace;background-color: #f0f8ff;border: 1px dotted black;border-radius: 0.25em;box-sizing: border-box;margin-bottom: 0.5em;}#sk-container-id-1 div.sk-estimator:hover {background-color: #d4ebff;}#sk-container-id-1 div.sk-parallel-item::after {content: \"\";width: 100%;border-bottom: 1px solid gray;flex-grow: 1;}#sk-container-id-1 div.sk-label:hover label.sk-toggleable__label {background-color: #d4ebff;}#sk-container-id-1 div.sk-serial::before {content: \"\";position: absolute;border-left: 1px solid gray;box-sizing: border-box;top: 0;bottom: 0;left: 50%;z-index: 0;}#sk-container-id-1 div.sk-serial {display: flex;flex-direction: column;align-items: center;background-color: white;padding-right: 0.2em;padding-left: 0.2em;position: relative;}#sk-container-id-1 div.sk-item {position: relative;z-index: 1;}#sk-container-id-1 div.sk-parallel {display: flex;align-items: stretch;justify-content: center;background-color: white;position: relative;}#sk-container-id-1 div.sk-item::before, #sk-container-id-1 div.sk-parallel-item::before {content: \"\";position: absolute;border-left: 1px solid gray;box-sizing: border-box;top: 0;bottom: 0;left: 50%;z-index: -1;}#sk-container-id-1 div.sk-parallel-item {display: flex;flex-direction: column;z-index: 1;position: relative;background-color: white;}#sk-container-id-1 div.sk-parallel-item:first-child::after {align-self: flex-end;width: 50%;}#sk-container-id-1 div.sk-parallel-item:last-child::after {align-self: flex-start;width: 50%;}#sk-container-id-1 div.sk-parallel-item:only-child::after {width: 0;}#sk-container-id-1 div.sk-dashed-wrapped {border: 1px dashed gray;margin: 0 0.4em 0.5em 0.4em;box-sizing: border-box;padding-bottom: 0.4em;background-color: white;}#sk-container-id-1 div.sk-label label {font-family: monospace;font-weight: bold;display: inline-block;line-height: 1.2em;}#sk-container-id-1 div.sk-label-container {text-align: center;}#sk-container-id-1 div.sk-container {/* jupyter's `normalize.less` sets `[hidden] { display: none; }` but bootstrap.min.css set `[hidden] { display: none !important; }` so we also need the `!important` here to be able to override the default hidden behavior on the sphinx rendered scikit-learn.org. See: https://github.com/scikit-learn/scikit-learn/issues/21755 */display: inline-block !important;position: relative;}#sk-container-id-1 div.sk-text-repr-fallback {display: none;}</style><div id=\"sk-container-id-1\" class=\"sk-top-container\"><div class=\"sk-text-repr-fallback\"><pre>LogisticRegression()</pre><b>In a Jupyter environment, please rerun this cell to show the HTML representation or trust the notebook. <br />On GitHub, the HTML representation is unable to render, please try loading this page with nbviewer.org.</b></div><div class=\"sk-container\" hidden><div class=\"sk-item\"><div class=\"sk-estimator sk-toggleable\"><input class=\"sk-toggleable__control sk-hidden--visually\" id=\"sk-estimator-id-1\" type=\"checkbox\" checked><label for=\"sk-estimator-id-1\" class=\"sk-toggleable__label sk-toggleable__label-arrow\">LogisticRegression</label><div class=\"sk-toggleable__content\"><pre>LogisticRegression()</pre></div></div></div></div></div>"
      ],
      "text/plain": [
       "LogisticRegression()"
      ]
     },
     "execution_count": 11,
     "metadata": {},
     "output_type": "execute_result"
    }
   ],
   "source": [
    "lr.fit(x_train, y_train)"
   ]
  },
  {
   "cell_type": "code",
   "execution_count": 12,
   "metadata": {},
   "outputs": [],
   "source": [
    "pred = lr.predict(x_test)"
   ]
  },
  {
   "cell_type": "code",
   "execution_count": 13,
   "metadata": {},
   "outputs": [],
   "source": [
    "acc_lr = accuracy_score(pred,y_test)*100"
   ]
  },
  {
   "cell_type": "code",
   "execution_count": 14,
   "metadata": {},
   "outputs": [
    {
     "name": "stdout",
     "output_type": "stream",
     "text": [
      "76.08695652173914\n"
     ]
    }
   ],
   "source": [
    "print(acc_lr)"
   ]
  },
  {
   "cell_type": "code",
   "execution_count": 15,
   "metadata": {},
   "outputs": [],
   "source": [
    "clf = make_pipeline(StandardScaler(), SVC(gamma='auto'))"
   ]
  },
  {
   "cell_type": "code",
   "execution_count": 16,
   "metadata": {},
   "outputs": [
    {
     "data": {
      "text/html": [
       "<style>#sk-container-id-2 {color: black;}#sk-container-id-2 pre{padding: 0;}#sk-container-id-2 div.sk-toggleable {background-color: white;}#sk-container-id-2 label.sk-toggleable__label {cursor: pointer;display: block;width: 100%;margin-bottom: 0;padding: 0.3em;box-sizing: border-box;text-align: center;}#sk-container-id-2 label.sk-toggleable__label-arrow:before {content: \"▸\";float: left;margin-right: 0.25em;color: #696969;}#sk-container-id-2 label.sk-toggleable__label-arrow:hover:before {color: black;}#sk-container-id-2 div.sk-estimator:hover label.sk-toggleable__label-arrow:before {color: black;}#sk-container-id-2 div.sk-toggleable__content {max-height: 0;max-width: 0;overflow: hidden;text-align: left;background-color: #f0f8ff;}#sk-container-id-2 div.sk-toggleable__content pre {margin: 0.2em;color: black;border-radius: 0.25em;background-color: #f0f8ff;}#sk-container-id-2 input.sk-toggleable__control:checked~div.sk-toggleable__content {max-height: 200px;max-width: 100%;overflow: auto;}#sk-container-id-2 input.sk-toggleable__control:checked~label.sk-toggleable__label-arrow:before {content: \"▾\";}#sk-container-id-2 div.sk-estimator input.sk-toggleable__control:checked~label.sk-toggleable__label {background-color: #d4ebff;}#sk-container-id-2 div.sk-label input.sk-toggleable__control:checked~label.sk-toggleable__label {background-color: #d4ebff;}#sk-container-id-2 input.sk-hidden--visually {border: 0;clip: rect(1px 1px 1px 1px);clip: rect(1px, 1px, 1px, 1px);height: 1px;margin: -1px;overflow: hidden;padding: 0;position: absolute;width: 1px;}#sk-container-id-2 div.sk-estimator {font-family: monospace;background-color: #f0f8ff;border: 1px dotted black;border-radius: 0.25em;box-sizing: border-box;margin-bottom: 0.5em;}#sk-container-id-2 div.sk-estimator:hover {background-color: #d4ebff;}#sk-container-id-2 div.sk-parallel-item::after {content: \"\";width: 100%;border-bottom: 1px solid gray;flex-grow: 1;}#sk-container-id-2 div.sk-label:hover label.sk-toggleable__label {background-color: #d4ebff;}#sk-container-id-2 div.sk-serial::before {content: \"\";position: absolute;border-left: 1px solid gray;box-sizing: border-box;top: 0;bottom: 0;left: 50%;z-index: 0;}#sk-container-id-2 div.sk-serial {display: flex;flex-direction: column;align-items: center;background-color: white;padding-right: 0.2em;padding-left: 0.2em;position: relative;}#sk-container-id-2 div.sk-item {position: relative;z-index: 1;}#sk-container-id-2 div.sk-parallel {display: flex;align-items: stretch;justify-content: center;background-color: white;position: relative;}#sk-container-id-2 div.sk-item::before, #sk-container-id-2 div.sk-parallel-item::before {content: \"\";position: absolute;border-left: 1px solid gray;box-sizing: border-box;top: 0;bottom: 0;left: 50%;z-index: -1;}#sk-container-id-2 div.sk-parallel-item {display: flex;flex-direction: column;z-index: 1;position: relative;background-color: white;}#sk-container-id-2 div.sk-parallel-item:first-child::after {align-self: flex-end;width: 50%;}#sk-container-id-2 div.sk-parallel-item:last-child::after {align-self: flex-start;width: 50%;}#sk-container-id-2 div.sk-parallel-item:only-child::after {width: 0;}#sk-container-id-2 div.sk-dashed-wrapped {border: 1px dashed gray;margin: 0 0.4em 0.5em 0.4em;box-sizing: border-box;padding-bottom: 0.4em;background-color: white;}#sk-container-id-2 div.sk-label label {font-family: monospace;font-weight: bold;display: inline-block;line-height: 1.2em;}#sk-container-id-2 div.sk-label-container {text-align: center;}#sk-container-id-2 div.sk-container {/* jupyter's `normalize.less` sets `[hidden] { display: none; }` but bootstrap.min.css set `[hidden] { display: none !important; }` so we also need the `!important` here to be able to override the default hidden behavior on the sphinx rendered scikit-learn.org. See: https://github.com/scikit-learn/scikit-learn/issues/21755 */display: inline-block !important;position: relative;}#sk-container-id-2 div.sk-text-repr-fallback {display: none;}</style><div id=\"sk-container-id-2\" class=\"sk-top-container\"><div class=\"sk-text-repr-fallback\"><pre>Pipeline(steps=[(&#x27;standardscaler&#x27;, StandardScaler()),\n",
       "                (&#x27;svc&#x27;, SVC(gamma=&#x27;auto&#x27;))])</pre><b>In a Jupyter environment, please rerun this cell to show the HTML representation or trust the notebook. <br />On GitHub, the HTML representation is unable to render, please try loading this page with nbviewer.org.</b></div><div class=\"sk-container\" hidden><div class=\"sk-item sk-dashed-wrapped\"><div class=\"sk-label-container\"><div class=\"sk-label sk-toggleable\"><input class=\"sk-toggleable__control sk-hidden--visually\" id=\"sk-estimator-id-2\" type=\"checkbox\" ><label for=\"sk-estimator-id-2\" class=\"sk-toggleable__label sk-toggleable__label-arrow\">Pipeline</label><div class=\"sk-toggleable__content\"><pre>Pipeline(steps=[(&#x27;standardscaler&#x27;, StandardScaler()),\n",
       "                (&#x27;svc&#x27;, SVC(gamma=&#x27;auto&#x27;))])</pre></div></div></div><div class=\"sk-serial\"><div class=\"sk-item\"><div class=\"sk-estimator sk-toggleable\"><input class=\"sk-toggleable__control sk-hidden--visually\" id=\"sk-estimator-id-3\" type=\"checkbox\" ><label for=\"sk-estimator-id-3\" class=\"sk-toggleable__label sk-toggleable__label-arrow\">StandardScaler</label><div class=\"sk-toggleable__content\"><pre>StandardScaler()</pre></div></div></div><div class=\"sk-item\"><div class=\"sk-estimator sk-toggleable\"><input class=\"sk-toggleable__control sk-hidden--visually\" id=\"sk-estimator-id-4\" type=\"checkbox\" ><label for=\"sk-estimator-id-4\" class=\"sk-toggleable__label sk-toggleable__label-arrow\">SVC</label><div class=\"sk-toggleable__content\"><pre>SVC(gamma=&#x27;auto&#x27;)</pre></div></div></div></div></div></div></div>"
      ],
      "text/plain": [
       "Pipeline(steps=[('standardscaler', StandardScaler()),\n",
       "                ('svc', SVC(gamma='auto'))])"
      ]
     },
     "execution_count": 16,
     "metadata": {},
     "output_type": "execute_result"
    }
   ],
   "source": [
    "clf.fit(x_train , y_train)"
   ]
  },
  {
   "cell_type": "code",
   "execution_count": 17,
   "metadata": {},
   "outputs": [],
   "source": [
    "pred_svm = clf.predict(x_test)"
   ]
  },
  {
   "cell_type": "code",
   "execution_count": 18,
   "metadata": {},
   "outputs": [],
   "source": [
    "acc_svm = accuracy_score(pred_svm,y_test)*100"
   ]
  },
  {
   "cell_type": "code",
   "execution_count": 19,
   "metadata": {},
   "outputs": [
    {
     "name": "stdout",
     "output_type": "stream",
     "text": [
      "82.06521739130434\n"
     ]
    }
   ],
   "source": [
    "print(acc_svm)"
   ]
  },
  {
   "cell_type": "code",
   "execution_count": 20,
   "metadata": {},
   "outputs": [],
   "source": [
    "filename = \"model_\"\n",
    "pickle.dump(lr,open(filename+\"lr.sav\",\"wb\"))\n",
    "pickle.dump(clf,open(filename+\"clf.sav\",\"wb\"))"
   ]
  },
  {
   "cell_type": "code",
   "execution_count": 21,
   "metadata": {},
   "outputs": [
    {
     "name": "stdout",
     "output_type": "stream",
     "text": [
      "327\n"
     ]
    },
    {
     "data": {
      "text/html": [
       "<div>\n",
       "<style scoped>\n",
       "    .dataframe tbody tr th:only-of-type {\n",
       "        vertical-align: middle;\n",
       "    }\n",
       "\n",
       "    .dataframe tbody tr th {\n",
       "        vertical-align: top;\n",
       "    }\n",
       "\n",
       "    .dataframe thead th {\n",
       "        text-align: right;\n",
       "    }\n",
       "</style>\n",
       "<table border=\"1\" class=\"dataframe\">\n",
       "  <thead>\n",
       "    <tr style=\"text-align: right;\">\n",
       "      <th></th>\n",
       "      <th>Sex</th>\n",
       "      <th>ChestPainType</th>\n",
       "      <th>Cholesterol</th>\n",
       "      <th>RestingECG</th>\n",
       "      <th>ExerciseAngina</th>\n",
       "      <th>RestingBP</th>\n",
       "      <th>FastingBS</th>\n",
       "      <th>MaxHR</th>\n",
       "      <th>HeartDisease</th>\n",
       "    </tr>\n",
       "  </thead>\n",
       "  <tbody>\n",
       "    <tr>\n",
       "      <th>327</th>\n",
       "      <td>1</td>\n",
       "      <td>0</td>\n",
       "      <td>1</td>\n",
       "      <td>1</td>\n",
       "      <td>1</td>\n",
       "      <td>125</td>\n",
       "      <td>1</td>\n",
       "      <td>119</td>\n",
       "      <td>1</td>\n",
       "    </tr>\n",
       "  </tbody>\n",
       "</table>\n",
       "</div>"
      ],
      "text/plain": [
       "     Sex  ChestPainType  Cholesterol  RestingECG  ExerciseAngina  RestingBP  \\\n",
       "327    1              0            1           1               1        125   \n",
       "\n",
       "     FastingBS  MaxHR  HeartDisease  \n",
       "327          1    119             1  "
      ]
     },
     "execution_count": 21,
     "metadata": {},
     "output_type": "execute_result"
    }
   ],
   "source": [
    "random_row_num = random.randint(0, df.shape[0] - 1)\n",
    "print(random_row_num)\n",
    "df[random_row_num:random_row_num + 1]"
   ]
  },
  {
   "cell_type": "code",
   "execution_count": 24,
   "metadata": {},
   "outputs": [],
   "source": [
    "import tensorflow as tf\n",
    "from keras.models import Sequential\n",
    "from keras.layers import Dense"
   ]
  },
  {
   "cell_type": "code",
   "execution_count": null,
   "metadata": {},
   "outputs": [],
   "source": [
    "model = Sequential([\n",
    "    Dense(64, activation='relu', input_shape=(8,)),\n",
    "    Dense(32, activation='relu'),\n",
    "    Dense(32, activation='relu'),\n",
    "    Dense(32, activation='relu'),\n",
    "    Dense(32, activation='relu')\n",
    "    Dense(1, activation='sigmoid'),\n",
    "])"
   ]
  }
 ],
 "metadata": {
  "kernelspec": {
   "display_name": "Python 3",
   "language": "python",
   "name": "python3"
  },
  "language_info": {
   "codemirror_mode": {
    "name": "ipython",
    "version": 3
   },
   "file_extension": ".py",
   "mimetype": "text/x-python",
   "name": "python",
   "nbconvert_exporter": "python",
   "pygments_lexer": "ipython3",
   "version": "3.10.11"
  }
 },
 "nbformat": 4,
 "nbformat_minor": 2
}
